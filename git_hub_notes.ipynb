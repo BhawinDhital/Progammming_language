{
 "cells": [
  {
   "cell_type": "markdown",
   "metadata": {},
   "source": [
    "# Github Basic Concept"
   ]
  },
  {
   "cell_type": "markdown",
   "metadata": {},
   "source": [
    "### A system where you can store code to a central location and which can be accessible to anyone from everywhere\n",
    "\n"
   ]
  },
  {
   "cell_type": "markdown",
   "metadata": {},
   "source": [
    "# Benifits\n",
    "\n",
    "\n",
    "\n"
   ]
  },
  {
   "cell_type": "markdown",
   "metadata": {},
   "source": [
    "###  1. when code developers work together, at some point they need to share their code. So it could be easy to store the code in to the central location and can access to every one"
   ]
  },
  {
   "cell_type": "markdown",
   "metadata": {},
   "source": [
    "###  2.you crashed your computer or lost your computer, it would be easy to copy the code from the central location to your computer again"
   ]
  },
  {
   "cell_type": "markdown",
   "metadata": {},
   "source": [
    "## What is a version?"
   ]
  },
  {
   "cell_type": "markdown",
   "metadata": {},
   "source": [
    "### Lets understand with an example \n",
    "### suppose you have version_0 that can only send text messages\n",
    "### leter another you developed version_1 that can upload pictures \n",
    "### in next edition say version_2 can do a vedio call\n",
    "### So every code is stored in the central location and git can retrive any of the version you want"
   ]
  },
  {
   "cell_type": "markdown",
   "metadata": {},
   "source": [
    "## Who is benifitted by github?"
   ]
  },
  {
   "cell_type": "markdown",
   "metadata": {},
   "source": [
    "### mainly the developers for example in jalb all of the users including student , postdocs and staffs "
   ]
  },
  {
   "cell_type": "markdown",
   "metadata": {},
   "source": [
    "# What is git and Github ?"
   ]
  },
  {
   "cell_type": "markdown",
   "metadata": {},
   "source": [
    "### git is an open source version control software through which we can mange our source code.  Developers can find what is inside this version and what is inside another version. You can have a copy of each version separately.\n",
    "### Github is a hosting service where we can upload our source code. This uploading or pushing can be done through git software which is installed in our local machine"
   ]
  },
  {
   "cell_type": "markdown",
   "metadata": {},
   "source": [
    "### This means the code is always in the central location and multiple developer can acces it.\n",
    "### In conclusion  github is the hosting service provider."
   ]
  },
  {
   "cell_type": "markdown",
   "metadata": {},
   "source": [
    "# More information about git and github"
   ]
  },
  {
   "cell_type": "markdown",
   "metadata": {},
   "source": [
    "### git software is installed in our local machine and we write the code in our local machine or we make the changes in the code [cloned] in our local computerlocation\n",
    "### Then using the git commands the written code or the updated version is pushed in to github to the cdntral \n",
    "### git ....> To host our service \n",
    "### github ....> To host our source code in the server\n",
    "### Note: git can delete the  recent update and can go back to the previous version\n",
    "### It gives  information about who made the changes and what is the change is about"
   ]
  },
  {
   "cell_type": "markdown",
   "metadata": {},
   "source": [
    "# how to open a github account \n",
    "### Go to the GitHub sign up page.\n",
    "### Enter a username, valid email address, and password.Use at least one lowercase letter, one numeral, and seven characters.\n",
    "### Review carefully the GitHub Terms of Service "
   ]
  },
  {
   "cell_type": "markdown",
   "metadata": {},
   "source": [
    "# Repository\n",
    "### Repository is a simple data base in which all of the changes or the history about the changes or a history about a project can be managed. In another word a git repository is just like a folder in your local computer the only difference is it is online.\n",
    "### git software manage the repository"
   ]
  },
  {
   "cell_type": "markdown",
   "metadata": {},
   "source": [
    "# How to create a  git repository?\n",
    "### log on to your github account and click on the +ve sign on the top right of the screen and then click on the new repository.\n",
    "### Give a name to the repository and then click on public( which means accessible to every one if you click on private you neeed to pay for that) and finally click on the create repository\n"
   ]
  },
  {
   "cell_type": "markdown",
   "metadata": {},
   "source": [
    "## Git maintains two primary data structure\n",
    "### 1. object store: canmanage all of the data or inside the data the author information or history etc. It also manage the date when the file was created.\n",
    "### 2. Index : it is a temporary dynamic file and it makes the snap shot of the repository"
   ]
  },
  {
   "cell_type": "markdown",
   "metadata": {},
   "source": [
    "# Git Commands\n",
    "### add, bisect, branch, checkout, clone , commit, diff, fetch, grep, log, merge, pull, push,rebase, reset, rm, status, tag"
   ]
  },
  {
   "cell_type": "markdown",
   "metadata": {},
   "source": [
    "## How to check whetehr git is installed or not?\n",
    "### git --version       .....> this command displays the git version if installed"
   ]
  },
  {
   "cell_type": "markdown",
   "metadata": {},
   "source": [
    "## How to initialize a local repository\n",
    "### lets make a directory in the following way\n",
    "### mkdir github_notes\n",
    "### cd github_notes\n",
    "### Now the github_notes is ready to be a git project or ready for a local repository. Lets initialize it as a local repository\n",
    "### git init\n",
    "### When initialize the directory as a loacal repository, a folder is created inside the repository, Which is actually hidden\n",
    "### to see the hidden file \n",
    "### ls -al  ......> will see .gitfolder\n",
    "#### Note: origin is local and remote is central location"
   ]
  },
  {
   "cell_type": "markdown",
   "metadata": {},
   "source": [
    "## How to configure a remote repository [from github] to local repository?\n",
    "### go to the repository( you want to configure ) in your github account\n",
    "### click on the clone or download\n",
    "### There willbe link and copy the link then use the following command\n",
    "#### git remote add origin + the link you just copied \n",
    "#### Note: here orogin can be any word for example new_origin, my_origin  etc\n",
    "### If no message displays that means it is added to your repository.\n",
    "### How to make sure it is added \n",
    "##### git remote -v  then it will display the following type of message\n",
    "### origin\thttps://github.com/Bishnu04/github_test111.git (fetch)\n",
    "### origin\thttps://github.com/Bishnu04/github_test111.git (push)\n",
    "### if in case you want to remove the link \n",
    "#### git remote remove origin\n",
    "##### NOte make sure origin may be my_origin, nnew_origin or nay name\n",
    "### can check again whether deleted or not by     git remote -v    commands\n",
    "### can add again\n",
    "##### This is helpful when you added a wrong repository."
   ]
  },
  {
   "cell_type": "markdown",
   "metadata": {},
   "source": [
    "# How to add a file to a repository and how to index  it?\n",
    "### go to the repository which you already initialized with git ( if not use the command git init and initialize it)\n",
    "### for example I have one with name  git_test and make  a file inside it in the normal way you do for example git_hub_notes.txt and write your code or something insiide it.\n",
    "### Now check whether something is in the repository or not\n",
    "#### git status\n",
    "### git will display git_hub_notes.txt in red color which means the file is untracked onne or not indexed yet.\n",
    "### Now use the following command to index it\n",
    "#### git add git_hub_notes.txt      (if no error massage that means it is added successfully) and check gain\n",
    "#### git ststus  ( now the file should have green color)\n",
    "### Note you need to add many files use the following command\n",
    "#### git add -all or git add .\n",
    "### so up to now the files are ready for commit. Only the staged file or the file has green color will be committed and the files with the red color can not be commited\n"
   ]
  },
  {
   "cell_type": "markdown",
   "metadata": {},
   "source": [
    "# How to make a staged file to unstaged one?\n",
    "### Lets try with the following commsnds\n",
    "#### git ststus\n",
    "### The green colored one is the index file or tracked file. That means index took snap shot of this file.\n",
    "## To remove from index\n",
    "### git rm --cached file_name .......> for example (git rm --cached data.txt where data.txt is the file need to be unstaged)\n",
    "#### git status\n",
    "### The above file that is data.txt should have redcolor now"
   ]
  },
  {
   "cell_type": "markdown",
   "metadata": {},
   "source": [
    "# Git Ignore\n",
    "### Some time you have a lot of files in your local git repository and you don't want to add all of them to github.\n",
    "### In this cese the solution is you need to create the .gitignore file and add the name of the files you don't want to upload to github to the newly created .gitignore. Now these files cannot be indexed or git doesn't have information about these files and cannot be added(uploaded) to github"
   ]
  },
  {
   "cell_type": "markdown",
   "metadata": {},
   "source": [
    "# Global commit authors\n",
    "### When you do commit something that means there is an author. An author can commit and git software should know about the name and email of the author. So the commands are\n",
    "#### git config --global.username \"Your user name\"\n",
    "#### git config --global.user email  \" your email\"\n",
    "### This means the githhub user name and the github email is configured. Now if you commit something, or make changes to any of the files git software knows about you. If you don't configure, you cannot do change."
   ]
  },
  {
   "cell_type": "markdown",
   "metadata": {},
   "source": [
    "# Commit\n",
    "### Only the index file( with green color) will be committed. The command to commit a git file is \n",
    "#### git commit -m \"your commit message\"\n",
    "### Note: every commit has a unique message( make sure your commit message should be understandable)\n",
    "### Now the files are committed but not pushed(uploaded to github yet)"
   ]
  },
  {
   "cell_type": "markdown",
   "metadata": {},
   "source": [
    "# Git log\n",
    "#### git log ........> this is a command taht will display list of commits with commit message."
   ]
  },
  {
   "cell_type": "markdown",
   "metadata": {},
   "source": [
    "# How to push a file from local repository to a remote(github) repository?\n",
    "### The command to push a file from local to remote repository is \n",
    "#### git push origin master\n",
    "### Note: here origin may not be same all the time (could be any name, you are given it before) and amster is the default branch. It could be different. For example you like to push in a branch which is not master say new_branch. In that case the master will be replaced by  new_branch"
   ]
  },
  {
   "cell_type": "markdown",
   "metadata": {},
   "source": [
    "# Git Branch\n",
    "### A seperate line of development which can be initiated inside a software project. Git software can manage multiple branches inside a repository.\n",
    "### In order to use the branches you should create your own branches. Master is the default branch.\n",
    "\n",
    "## How to create a branch?\n",
    "#### git branch branch_name \n",
    "#### for example git branch my_branch\n",
    "## How to switch from one branch to another? say from master to my_branch\n",
    "#### git checkout my_branch\n",
    "## How create a branch and switch to that branch in one line \n",
    "#### git checkout -b new_branch_name\n",
    "\n",
    "## Advantage of branch\n",
    "### You can use one branch for one code and  other branch for  other code\n"
   ]
  },
  {
   "cell_type": "markdown",
   "metadata": {},
   "source": [
    "# Clone\n",
    "### Suppose github has a repository and it has code over there. NOw you need to copy that code to your comuter.\n",
    "### One way is just download the zip file to your computer.\n",
    "## Here is another way\n",
    "### Make a folder in your local machine and give it name for example git_repo\n",
    "#### mkdir git_repo\n",
    "##### cd git_repo\n",
    "### Now go to  the github account and copy the link from the github repository and  use the following command\n",
    "####  git clone  + link"
   ]
  },
  {
   "cell_type": "markdown",
   "metadata": {},
   "source": [
    "# Fork\n",
    "### If you like someones repository, you would like to make a copy of it which will be your own copy.\n",
    "### go to github\n",
    "### click on fork . That means make a copy in your own repository where you can make changes."
   ]
  },
  {
   "cell_type": "markdown",
   "metadata": {},
   "source": [
    "# Pull Request\n",
    "### Suppose you have a repo in github and a new user came and he make a fork of it, creates a copy in his account. Then he made a pull request, that means he had some corrections in his cloned version and now he want the changes he made can be accepted by you or simply accept the changes."
   ]
  },
  {
   "cell_type": "code",
   "execution_count": null,
   "metadata": {},
   "outputs": [],
   "source": []
  },
  {
   "cell_type": "code",
   "execution_count": null,
   "metadata": {},
   "outputs": [],
   "source": []
  },
  {
   "cell_type": "code",
   "execution_count": null,
   "metadata": {},
   "outputs": [],
   "source": []
  }
 ],
 "metadata": {
  "kernelspec": {
   "display_name": "Python 3",
   "language": "python",
   "name": "python3"
  },
  "language_info": {
   "codemirror_mode": {
    "name": "ipython",
    "version": 3
   },
   "file_extension": ".py",
   "mimetype": "text/x-python",
   "name": "python",
   "nbconvert_exporter": "python",
   "pygments_lexer": "ipython3",
   "version": "3.7.1"
  }
 },
 "nbformat": 4,
 "nbformat_minor": 2
}
